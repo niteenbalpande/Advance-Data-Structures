{
 "cells": [
  {
   "cell_type": "code",
   "execution_count": 3,
   "id": "7059e511",
   "metadata": {},
   "outputs": [
    {
     "name": "stdout",
     "output_type": "stream",
     "text": [
      "Unsorted lst of ele\n",
      "[8, 7, 2, 41, 0, 9, 6]\n",
      "Sorted list\n",
      "[0, 2, 6, 7, 8, 9, 41]\n"
     ]
    }
   ],
   "source": [
    "def partition(arr, low, high):\n",
    "  pivot = arr[high]\n",
    "  i = low - 1\n",
    "  for j in range(low, high):\n",
    "    if arr[j] <= pivot:\n",
    "      i = i + 1\n",
    "      (arr[i], arr[j]) = (arr[j], arr[i])\n",
    "  (arr[i + 1], arr[high]) = (arr[high], arr[i + 1]) \t \t\n",
    "  return i + 1\n",
    "def qs(arr, low, high):\n",
    "  if low < high:\n",
    "    pi = partition(arr, low, high)\n",
    "    qs(arr, low, pi - 1)\n",
    "    qs(arr, pi + 1, high)\n",
    "data = [8, 7, 2, 41, 0, 9, 6]\n",
    "print(\"Unsorted lst of ele\")\n",
    "print(data)\n",
    "size = len(data)\n",
    "qs(data, 0, size - 1)\n",
    "print('Sorted list')\n",
    "print(data)"
   ]
  },
  {
   "cell_type": "code",
   "execution_count": null,
   "id": "2c9aabba",
   "metadata": {},
   "outputs": [],
   "source": []
  }
 ],
 "metadata": {
  "kernelspec": {
   "display_name": "Python 3",
   "language": "python",
   "name": "python3"
  },
  "language_info": {
   "codemirror_mode": {
    "name": "ipython",
    "version": 3
   },
   "file_extension": ".py",
   "mimetype": "text/x-python",
   "name": "python",
   "nbconvert_exporter": "python",
   "pygments_lexer": "ipython3",
   "version": "3.8.8"
  }
 },
 "nbformat": 4,
 "nbformat_minor": 5
}
